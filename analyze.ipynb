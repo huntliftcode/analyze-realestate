{
 "cells": [
  {
   "attachments": {},
   "cell_type": "markdown",
   "metadata": {},
   "source": [
    "## Income Variables"
   ]
  },
  {
   "cell_type": "code",
   "execution_count": 238,
   "metadata": {},
   "outputs": [
    {
     "name": "stdout",
     "output_type": "stream",
     "text": [
      "home price: $100000.0\n",
      "monthly gross rent: $700.0\n",
      "annual gross rent: $8400.0\n"
     ]
    }
   ],
   "source": [
    "from IPython.display import Markdown as md\n",
    "from functools import reduce\n",
    "import json\n",
    "\n",
    "home_price = 100000.0\n",
    "down_payment_percentage = 0.3 \n",
    "down_payment = home_price * down_payment_percentage\n",
    "monthly_gross_rent = home_price * .007\n",
    "annual_gross_rent = monthly_gross_rent * 12.0\n",
    "\n",
    "print(f\"home price: ${home_price}\")\n",
    "print(f\"monthly gross rent: ${monthly_gross_rent}\")\n",
    "print(f\"annual gross rent: ${annual_gross_rent}\")\n"
   ]
  },
  {
   "attachments": {},
   "cell_type": "markdown",
   "metadata": {},
   "source": [
    "## Expense Variables"
   ]
  },
  {
   "cell_type": "code",
   "execution_count": 239,
   "metadata": {},
   "outputs": [
    {
     "name": "stdout",
     "output_type": "stream",
     "text": [
      "{\n",
      "  \"property_taxes\": 7.0,\n",
      "  \"insurance\": 35.0,\n",
      "  \"utilities\": 0,\n",
      "  \"hoa\": 0,\n",
      "  \"vacancy\": 35.0,\n",
      "  \"repairs\": 35.0,\n",
      "  \"cap_ex\": 35.0,\n",
      "  \"property_management\": 0.0,\n",
      "  \"mortgage_payment\": 465.71\n",
      "}\n",
      "612.71\n"
     ]
    }
   ],
   "source": [
    "vacancy_rate = 0.05\n",
    "repairs_rate = 0.05\n",
    "cap_ex_rate = 0.05\n",
    "insurance_rate = .05\n",
    "tax_rate = .01\n",
    "property_management_rate = 0 # 0.1\n",
    "\n",
    "# mortgage goodies\n",
    "interest_rate = 0.07 / 12 \n",
    "term = 30.0 # years\n",
    "total_payments = term * 12.0 # montly payments \n",
    "mortgage = home_price - down_payment\n",
    "mortgage_payment = round(mortgage * ((interest_rate * ((1.0 + interest_rate)**total_payments)) / (((1.0 + interest_rate)**(total_payments)) - 1.0)), 2)\n",
    "expenses = {\n",
    "    \"property_taxes\":  monthly_gross_rent * tax_rate,\n",
    "    \"insurance\":  monthly_gross_rent * insurance_rate,\n",
    "    # Gas, water, sewer, garbage, electric\n",
    "    \"utilities\":  0,\n",
    "    \"hoa\":  0,\n",
    "    \"vacancy\":  monthly_gross_rent * vacancy_rate,\n",
    "    \"repairs\":  monthly_gross_rent * repairs_rate,\n",
    "    \"cap_ex\":  monthly_gross_rent * cap_ex_rate,\n",
    "    \"property_management\":  monthly_gross_rent * property_management_rate,\n",
    "    \"mortgage_payment\":  mortgage_payment\n",
    "}\n",
    "\n",
    "\n",
    "monthly_gross_expenses = sum(expenses.values())\n",
    "print(json.dumps(expenses, indent=2))\n",
    "print(monthly_gross_expenses)"
   ]
  },
  {
   "attachments": {},
   "cell_type": "markdown",
   "metadata": {},
   "source": [
    "## Net Operating Income"
   ]
  },
  {
   "cell_type": "code",
   "execution_count": 240,
   "metadata": {},
   "outputs": [
    {
     "data": {
      "text/markdown": [
       "$553.0"
      ],
      "text/plain": [
       "<IPython.core.display.Markdown object>"
      ]
     },
     "execution_count": 240,
     "metadata": {},
     "output_type": "execute_result"
    }
   ],
   "source": [
    "operating_expense = sum([expense for category, expense in expenses.items() if category not in ['mortgage_payment']])\n",
    "noi = monthly_gross_rent - operating_expense\n",
    "md(f\"${noi}\")\n"
   ]
  },
  {
   "attachments": {},
   "cell_type": "markdown",
   "metadata": {},
   "source": [
    "## Gross Rent Multipler"
   ]
  },
  {
   "cell_type": "code",
   "execution_count": 241,
   "metadata": {},
   "outputs": [
    {
     "name": "stdout",
     "output_type": "stream",
     "text": [
      "11.9\n"
     ]
    }
   ],
   "source": [
    "grm = round(home_price / annual_gross_rent, 2)\n",
    "print(grm)"
   ]
  },
  {
   "attachments": {},
   "cell_type": "markdown",
   "metadata": {},
   "source": [
    "## Meets One Percent Rule?"
   ]
  },
  {
   "cell_type": "code",
   "execution_count": 242,
   "metadata": {},
   "outputs": [
    {
     "name": "stdout",
     "output_type": "stream",
     "text": [
      "True\n"
     ]
    }
   ],
   "source": [
    "is_one_percent_rule = annual_gross_rent >= home_price * .01\n",
    "print(is_one_percent_rule)\n"
   ]
  },
  {
   "attachments": {},
   "cell_type": "markdown",
   "metadata": {},
   "source": [
    "## Cap Rate"
   ]
  },
  {
   "cell_type": "code",
   "execution_count": 243,
   "metadata": {},
   "outputs": [
    {
     "name": "stdout",
     "output_type": "stream",
     "text": [
      "6.64%\n"
     ]
    }
   ],
   "source": [
    "# NOI / Total Purchase Price\n",
    "annualized_noi = noi * 12\n",
    "print(f\"{round((annualized_noi / home_price * 100), 2)}%\") # need to include other up front expenses"
   ]
  },
  {
   "attachments": {},
   "cell_type": "markdown",
   "metadata": {},
   "source": [
    "## Net Income After Financing"
   ]
  },
  {
   "cell_type": "code",
   "execution_count": 244,
   "metadata": {},
   "outputs": [
    {
     "name": "stdout",
     "output_type": "stream",
     "text": [
      "$87.29\n"
     ]
    }
   ],
   "source": [
    "niaf = monthly_gross_rent - monthly_gross_expenses\n",
    "print(f\"${round(niaf, 2)}\")"
   ]
  },
  {
   "attachments": {},
   "cell_type": "markdown",
   "metadata": {},
   "source": [
    "## Cash on Cash"
   ]
  },
  {
   "cell_type": "code",
   "execution_count": 245,
   "metadata": {},
   "outputs": [
    {
     "name": "stdout",
     "output_type": "stream",
     "text": [
      "3.49%\n"
     ]
    }
   ],
   "source": [
    "annualized_niaf = niaf * 12\n",
    "coc = annualized_niaf / down_payment # need to include other up front expenses\n",
    "print(f\"{round(coc * 100, 2)}%\")"
   ]
  }
 ],
 "metadata": {
  "kernelspec": {
   "display_name": "Python 3 (ipykernel)",
   "language": "python",
   "name": "python3"
  },
  "language_info": {
   "codemirror_mode": {
    "name": "ipython",
    "version": 3
   },
   "file_extension": ".py",
   "mimetype": "text/x-python",
   "name": "python",
   "nbconvert_exporter": "python",
   "pygments_lexer": "ipython3",
   "version": "3.10.6"
  },
  "orig_nbformat": 4
 },
 "nbformat": 4,
 "nbformat_minor": 2
}
